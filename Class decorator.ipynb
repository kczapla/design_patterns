{
 "cells": [
  {
   "cell_type": "code",
   "execution_count": 23,
   "metadata": {
    "collapsed": true
   },
   "outputs": [],
   "source": [
    "# Abstract class\n",
    "class Beverage(object):\n",
    "    \n",
    "    def __init__(self):\n",
    "        \n",
    "        self.description = 'Unknown description'\n",
    "        self.size = 'Tall'\n",
    "        \n",
    "    def get_description(self):\n",
    "        \n",
    "        return self.description\n",
    "        \n",
    "    def cost(self):\n",
    "        \n",
    "        raise NotImplementedError\n",
    "        \n",
    "    def set_size(self, size):\n",
    "        \n",
    "        self.size = size\n",
    "    \n",
    "    def get_size(self):\n",
    "        \n",
    "        return self.size"
   ]
  },
  {
   "cell_type": "code",
   "execution_count": 24,
   "metadata": {
    "collapsed": true
   },
   "outputs": [],
   "source": [
    "# Decorator abstract class\n",
    "class CondimentDecorator(Beverage):\n",
    "    \n",
    "    def get_description(self):\n",
    "        \n",
    "        raise NotImplementedError"
   ]
  },
  {
   "cell_type": "code",
   "execution_count": 25,
   "metadata": {
    "collapsed": true
   },
   "outputs": [],
   "source": [
    "# Caffes classes\n",
    "class Espresso(Beverage):\n",
    "    \n",
    "    def __init__(self):\n",
    "        \n",
    "        Beverage.__init__(self)\n",
    "        self.description = 'Esspresso'\n",
    "        \n",
    "    def cost(self):\n",
    "        \n",
    "        return 1.99\n",
    "\n",
    "    \n",
    "class HouseBlend(Beverage):\n",
    "    \n",
    "    def __init__(self):\n",
    "        \n",
    "        Beverage.__init__(self)\n",
    "        self.description = 'House Blend'\n",
    "        \n",
    "    def cost():\n",
    "        \n",
    "        return 0.89\n",
    "    \n",
    "    \n",
    "class DarkRoast(Beverage):\n",
    "    \n",
    "    def __init__(self):\n",
    "        \n",
    "        Beverage.__init__(self)\n",
    "        self.description = 'Dark Roast'\n",
    "        \n",
    "    def cost(self):\n",
    "        \n",
    "        return 0.99\n",
    "    \n",
    "    \n",
    "class Decaf(Beverage):\n",
    "    \n",
    "    def __init__(self):\n",
    "        \n",
    "        Beverage.__init__(self)\n",
    "        self.description = 'Decaf'\n",
    "        \n",
    "    def cost(self):\n",
    "        \n",
    "        return 1.05"
   ]
  },
  {
   "cell_type": "code",
   "execution_count": 30,
   "metadata": {
    "collapsed": true
   },
   "outputs": [],
   "source": [
    "# Condiment classes\n",
    "class Mocha(CondimentDecorator):\n",
    "    \n",
    "    def __init__(self, beverage):\n",
    "        \n",
    "        CondimentDecorator.__init__(self)\n",
    "        self.beverage = beverage\n",
    "        \n",
    "    def get_description(self):\n",
    "        \n",
    "        return self.beverage.get_description() + ', Mocha'\n",
    "    \n",
    "    def cost(self):\n",
    "        \n",
    "        return self.beverage.cost() + 0.20\n",
    "   \n",
    "\n",
    "class Whip(CondimentDecorator):\n",
    "    \n",
    "    def __init__(self, beverage):\n",
    "        \n",
    "        CondimentDecorator.__init__(self)\n",
    "        self.beverage = beverage\n",
    "        \n",
    "    def get_description(self):\n",
    "        \n",
    "        return self.beverage.get_description() + ', Whip'\n",
    "    \n",
    "    def cost(self):\n",
    "        \n",
    "        return self.beverage.cost() + 0.10    \n",
    "    \n",
    "    \n",
    "class SmallSize(CondimentDecorator):\n",
    "    \n",
    "    def __init__(self, beverage):\n",
    "        \n",
    "        CondimentDecorator.__init__(self)\n",
    "        self.beverage = beverage\n",
    "        self.beverage.set_size('Small')\n",
    "        \n",
    "    def get_description(self):\n",
    "        \n",
    "        return self.beverage.get_description() + ', ' + self.beverage.get_size()\n",
    "    \n",
    "    def cost(self):\n",
    "        \n",
    "        return self.beverage.cost() + 1.0\n",
    "    \n",
    "    \n",
    "class MediumSize(CondimentDecorator):\n",
    "    \n",
    "    def __init__(self, beverage):\n",
    "        \n",
    "        CondimentDecorator.__init__(self)\n",
    "        self.beverage = beverage\n",
    "        self.beverage.set_size('Medium')\n",
    "        \n",
    "    def get_description(self):\n",
    "        \n",
    "        return self.beverage.get_description() + ', ' + self.beverage.get_size()\n",
    "    \n",
    "    def cost(self):\n",
    "        \n",
    "        return self.beverage.cost() + 2.0\n",
    "    \n",
    "    \n",
    "class LargeSize(CondimentDecorator):\n",
    "    \n",
    "    def __init__(self, beverage):\n",
    "        \n",
    "        CondimentDecorator.__init__(self)\n",
    "        self.beverage = beverage\n",
    "        self.beverage.set_size('Large')\n",
    "        \n",
    "    def get_description(self):\n",
    "        \n",
    "        return self.beverage.get_description() + ', ' + self.beverage.get_size()\n",
    "    \n",
    "    def cost(self):\n",
    "        \n",
    "        return self.beverage.cost() + 3.0"
   ]
  },
  {
   "cell_type": "code",
   "execution_count": 29,
   "metadata": {
    "collapsed": false
   },
   "outputs": [
    {
     "name": "stdout",
     "output_type": "stream",
     "text": [
      "Esspresso $1.99\n",
      "Dark Roast, Mocha, Mocha, Whip, Large $4.49\n"
     ]
    }
   ],
   "source": [
    "# Make orders\n",
    "def orders():\n",
    "    \n",
    "    beverage = Espresso()\n",
    "    print(beverage.get_description() + ' $' + str(beverage.cost()))\n",
    "    \n",
    "    beverage2 = DarkRoast()\n",
    "    beverage2 = Mocha(beverage2)\n",
    "    beverage2 = Mocha(beverage2)\n",
    "    beverage2 = Whip(beverage2)\n",
    "    beverage2 = LargeSize(beverage2)\n",
    "    \n",
    "    print(beverage2.get_description() + ' $' + str(beverage2.cost()))\n",
    "\n",
    "orders()"
   ]
  },
  {
   "cell_type": "code",
   "execution_count": null,
   "metadata": {
    "collapsed": true
   },
   "outputs": [],
   "source": []
  }
 ],
 "metadata": {
  "kernelspec": {
   "display_name": "Python 3",
   "language": "python",
   "name": "python3"
  },
  "language_info": {
   "codemirror_mode": {
    "name": "ipython",
    "version": 3
   },
   "file_extension": ".py",
   "mimetype": "text/x-python",
   "name": "python",
   "nbconvert_exporter": "python",
   "pygments_lexer": "ipython3",
   "version": "3.5.0"
  }
 },
 "nbformat": 4,
 "nbformat_minor": 0
}
